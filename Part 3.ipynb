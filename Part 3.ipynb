{
 "cells": [
  {
   "cell_type": "code",
   "execution_count": 133,
   "id": "dd27c087",
   "metadata": {
    "slideshow": {
     "slide_type": "skip"
    }
   },
   "outputs": [
    {
     "name": "stderr",
     "output_type": "stream",
     "text": [
      "[nltk_data] Downloading package punkt to /home/student/nltk_data...\n",
      "[nltk_data]   Package punkt is already up-to-date!\n"
     ]
    }
   ],
   "source": [
    "from sentence_transformers import SentenceTransformer\n",
    "from datasets import load_dataset\n",
    "from pinecone import Pinecone, ServerlessSpec\n",
    "import os\n",
    "from tqdm import tqdm\n",
    "import pandas as pd\n",
    "import cohere\n",
    "import numpy as np\n",
    "import nltk\n",
    "import string\n",
    "nltk.download('punkt')\n",
    "import warnings\n",
    "from IPython.display import display\n",
    "warnings.filterwarnings(\"ignore\")"
   ]
  },
  {
   "cell_type": "markdown",
   "id": "920b3551",
   "metadata": {
    "slideshow": {
     "slide_type": "slide"
    }
   },
   "source": [
    "##### First things first - APIs"
   ]
  },
  {
   "cell_type": "code",
   "execution_count": 134,
   "id": "33e6f5b3",
   "metadata": {
    "slideshow": {
     "slide_type": "fragment"
    }
   },
   "outputs": [],
   "source": [
    "with open(\"chohere_api_keys.txt\") as f:\n",
    "    COHERE_API_KEY = f.read().strip()\n",
    "with open(\"pinecone_api_key.txt\") as f:\n",
    "    PINECONE_API_KEY = f.read().strip()"
   ]
  },
  {
   "cell_type": "markdown",
   "id": "9910ad66",
   "metadata": {},
   "source": [
    "# Document Reading, Preprocessing and Chunking"
   ]
  },
  {
   "cell_type": "code",
   "execution_count": 135,
   "id": "9d558650",
   "metadata": {
    "slideshow": {
     "slide_type": "subslide"
    }
   },
   "outputs": [],
   "source": [
    "from sentence_transformers import SentenceTransformer\n",
    "\n",
    "EMBEDDING_MODEL = 'all-MiniLM-L6-v2'\n",
    "model = SentenceTransformer(EMBEDDING_MODEL)"
   ]
  },
  {
   "cell_type": "code",
   "execution_count": 136,
   "id": "31f0d6e9",
   "metadata": {},
   "outputs": [],
   "source": [
    "def clean_text(text):\n",
    "    # Convert the text to lowercase\n",
    "    text = text.lower()\n",
    "\n",
    "    # Tokenize the text using NLTK\n",
    "    tokens = nltk.word_tokenize(text)\n",
    "    \n",
    "    # Filter out tokens that are punctuation\n",
    "    tokens = [token for token in tokens if token not in string.punctuation]\n",
    "    \n",
    "    # Rejoin the tokens into a single string\n",
    "    cleaned_text = ' '.join(tokens)\n",
    "    \n",
    "    return cleaned_text"
   ]
  },
  {
   "cell_type": "code",
   "execution_count": 137,
   "id": "1393c741",
   "metadata": {},
   "outputs": [],
   "source": [
    "def chunking(records_text, sentences_per_segment, dataset):\n",
    "    \"\"\"\n",
    "    The function creates a new dataset by breaking each paragraph into segments of 3 sentences with\n",
    "    a stride of 1. In addition, it maps the meta data into the new dataset so the context could be\n",
    "    retrieved.\n",
    "    Args:\n",
    "        records_text: List of the paragraphs\n",
    "        sentences_per_segment: The size of the context window\n",
    "        dataset: The original dataset\n",
    "\n",
    "    Returns:\n",
    "        new_records: A list of the \"new paragraphs\"\n",
    "        meta_df: A DataFrame which contains the meta data of each \"new paragraph\"\n",
    "    \"\"\"\n",
    "\n",
    "    new_records = []\n",
    "    meta_df = pd.DataFrame(columns=dataset.column_names)\n",
    "\n",
    "    for n, paragraph in enumerate(records_text):\n",
    "        # Splitting each paragraph into it's sentences\n",
    "        sentences = paragraph.replace('\\n', '').split('. ')\n",
    "        \n",
    "        # Iterating over the paragraph and dividing it into segments while \n",
    "        # maintaining it's original meta data.\n",
    "        for i in range(len(sentences)- sentences_per_segment + 1):\n",
    "            new_segment = ''\n",
    "            for j in range(sentences_per_segment):\n",
    "             new_segment += sentences[i + j] + '. '\n",
    "            meta_df.loc[len(meta_df)] = dataset[n]\n",
    "            meta_df.loc[len(meta_df) - 1]['text'] = new_segment\n",
    "            new_records.append(clean_text(new_segment[:-1]))\n",
    "    \n",
    "    return new_records, meta_df    "
   ]
  },
  {
   "cell_type": "code",
   "execution_count": 138,
   "id": "25de8986",
   "metadata": {
    "slideshow": {
     "slide_type": "slide"
    }
   },
   "outputs": [],
   "source": [
    "def load_and_embedd_dataset(\n",
    "        dataset_name: str = 'aav-ds/Israel-HAMAS_war_news',\n",
    "        split: str = 'train',\n",
    "        model: SentenceTransformer = SentenceTransformer('all-MiniLM-L6-v2'),\n",
    "        text_field: str = 'text',\n",
    "        rec_num: int = 400\n",
    ") -> tuple:\n",
    "    \"\"\"\n",
    "    Load a dataset and embedd the text field using a sentence-transformer model\n",
    "    Args:\n",
    "        dataset_name: The name of the dataset to load\n",
    "        split: The split of the dataset to load\n",
    "        model: The model to use for embedding\n",
    "        text_field: The field in the dataset that contains the text\n",
    "        rec_num: The number of records to load and embedd\n",
    "    Returns:\n",
    "        tuple: A tuple containing the dataset and the embeddings\n",
    "    \"\"\"\n",
    "    from datasets import load_dataset, Dataset\n",
    "\n",
    "    \n",
    "    print(\"Loading and embedding the dataset\")\n",
    "    \n",
    "    # Load the dataset\n",
    "    dataset = load_dataset(dataset_name, split=split)\n",
    "    \n",
    "    \n",
    "    # Chunking each paragraph in the data into context windows of 3 and stride 1.\n",
    "    chunked_dataset, meta_data = chunking(dataset[text_field][:rec_num], 3, dataset)\n",
    "    \n",
    "    # Embed the first `rec_num` rows of the dataset\n",
    "    embeddings = model.encode(chunked_dataset)\n",
    "    \n",
    "    # Converting the pd.DataFrame object into Dataset one.\n",
    "    ds = Dataset.from_pandas(meta_data)\n",
    "    \n",
    "    print(\"Done!\")\n",
    "    return ds, embeddings"
   ]
  },
  {
   "cell_type": "code",
   "execution_count": 139,
   "id": "3bff82e2",
   "metadata": {
    "slideshow": {
     "slide_type": "subslide"
    }
   },
   "outputs": [
    {
     "name": "stdout",
     "output_type": "stream",
     "text": [
      "Loading and embedding the dataset\n",
      "Done!\n"
     ]
    }
   ],
   "source": [
    "DATASET_NAME = 'aav-ds/Israel-HAMAS_war_news'\n",
    "\n",
    "dataset, embeddings = load_and_embedd_dataset(\n",
    "    dataset_name=DATASET_NAME,\n",
    "    rec_num=13103,\n",
    "    model=model,\n",
    ")\n",
    "shape = embeddings.shape"
   ]
  },
  {
   "cell_type": "markdown",
   "id": "6da76959",
   "metadata": {
    "slideshow": {
     "slide_type": "subslide"
    }
   },
   "source": [
    "Lets us look at the dataset and the embeddings' shape"
   ]
  },
  {
   "cell_type": "code",
   "execution_count": 140,
   "id": "ac3f8e6c",
   "metadata": {
    "slideshow": {
     "slide_type": "fragment"
    }
   },
   "outputs": [
    {
     "data": {
      "text/html": [
       "<div>\n",
       "<style scoped>\n",
       "    .dataframe tbody tr th:only-of-type {\n",
       "        vertical-align: middle;\n",
       "    }\n",
       "\n",
       "    .dataframe tbody tr th {\n",
       "        vertical-align: top;\n",
       "    }\n",
       "\n",
       "    .dataframe thead th {\n",
       "        text-align: right;\n",
       "    }\n",
       "</style>\n",
       "<table border=\"1\" class=\"dataframe\">\n",
       "  <thead>\n",
       "    <tr style=\"text-align: right;\">\n",
       "      <th></th>\n",
       "      <th>url</th>\n",
       "      <th>datetime</th>\n",
       "      <th>title</th>\n",
       "      <th>text</th>\n",
       "      <th>provider</th>\n",
       "      <th>source</th>\n",
       "      <th>__index_level_0__</th>\n",
       "    </tr>\n",
       "  </thead>\n",
       "  <tbody>\n",
       "    <tr>\n",
       "      <th>0</th>\n",
       "      <td>https://www.bbc.com/news/live/world-middle-eas...</td>\n",
       "      <td>2023-11-18T18:05:00</td>\n",
       "      <td>A look at where things stand</td>\n",
       "      <td>Confusion over al-Shifa evacuation: The direct...</td>\n",
       "      <td>BBC</td>\n",
       "      <td>site-live-news</td>\n",
       "      <td>0</td>\n",
       "    </tr>\n",
       "    <tr>\n",
       "      <th>1</th>\n",
       "      <td>https://www.bbc.com/news/live/world-middle-eas...</td>\n",
       "      <td>2023-11-18T18:05:00</td>\n",
       "      <td>A look at where things stand</td>\n",
       "      <td>Israel denied this, saying it had agreed to an...</td>\n",
       "      <td>BBC</td>\n",
       "      <td>site-live-news</td>\n",
       "      <td>1</td>\n",
       "    </tr>\n",
       "    <tr>\n",
       "      <th>2</th>\n",
       "      <td>https://www.bbc.com/news/live/world-middle-eas...</td>\n",
       "      <td>2023-11-18T18:05:00</td>\n",
       "      <td>A look at where things stand</td>\n",
       "      <td>(It has shown pictures of an alleged tunnel sh...</td>\n",
       "      <td>BBC</td>\n",
       "      <td>site-live-news</td>\n",
       "      <td>2</td>\n",
       "    </tr>\n",
       "    <tr>\n",
       "      <th>3</th>\n",
       "      <td>https://www.bbc.com/news/live/world-middle-eas...</td>\n",
       "      <td>2023-11-18T18:05:00</td>\n",
       "      <td>A look at where things stand</td>\n",
       "      <td>Footage, which BBC Verify has analysed, shows ...</td>\n",
       "      <td>BBC</td>\n",
       "      <td>site-live-news</td>\n",
       "      <td>3</td>\n",
       "    </tr>\n",
       "    <tr>\n",
       "      <th>4</th>\n",
       "      <td>https://www.bbc.com/news/live/world-middle-eas...</td>\n",
       "      <td>2023-11-18T18:05:00</td>\n",
       "      <td>A look at where things stand</td>\n",
       "      <td>The United Arab Emirates (UAE) says it's plann...</td>\n",
       "      <td>BBC</td>\n",
       "      <td>site-live-news</td>\n",
       "      <td>4</td>\n",
       "    </tr>\n",
       "  </tbody>\n",
       "</table>\n",
       "</div>"
      ],
      "text/plain": [
       "                                                 url             datetime  \\\n",
       "0  https://www.bbc.com/news/live/world-middle-eas...  2023-11-18T18:05:00   \n",
       "1  https://www.bbc.com/news/live/world-middle-eas...  2023-11-18T18:05:00   \n",
       "2  https://www.bbc.com/news/live/world-middle-eas...  2023-11-18T18:05:00   \n",
       "3  https://www.bbc.com/news/live/world-middle-eas...  2023-11-18T18:05:00   \n",
       "4  https://www.bbc.com/news/live/world-middle-eas...  2023-11-18T18:05:00   \n",
       "\n",
       "                          title  \\\n",
       "0  A look at where things stand   \n",
       "1  A look at where things stand   \n",
       "2  A look at where things stand   \n",
       "3  A look at where things stand   \n",
       "4  A look at where things stand   \n",
       "\n",
       "                                                text provider          source  \\\n",
       "0  Confusion over al-Shifa evacuation: The direct...      BBC  site-live-news   \n",
       "1  Israel denied this, saying it had agreed to an...      BBC  site-live-news   \n",
       "2  (It has shown pictures of an alleged tunnel sh...      BBC  site-live-news   \n",
       "3  Footage, which BBC Verify has analysed, shows ...      BBC  site-live-news   \n",
       "4  The United Arab Emirates (UAE) says it's plann...      BBC  site-live-news   \n",
       "\n",
       "   __index_level_0__  \n",
       "0                  0  \n",
       "1                  1  \n",
       "2                  2  \n",
       "3                  3  \n",
       "4                  4  "
      ]
     },
     "execution_count": 140,
     "metadata": {},
     "output_type": "execute_result"
    }
   ],
   "source": [
    "pd_dataset = dataset.to_pandas()\n",
    "pd_dataset.head(5)"
   ]
  },
  {
   "cell_type": "code",
   "execution_count": 141,
   "id": "8f1e83d2",
   "metadata": {
    "slideshow": {
     "slide_type": "fragment"
    }
   },
   "outputs": [
    {
     "name": "stdout",
     "output_type": "stream",
     "text": [
      "The embeddings shape: (17320, 384)\n"
     ]
    }
   ],
   "source": [
    "print(f\"The embeddings shape: {embeddings.shape}\")"
   ]
  },
  {
   "cell_type": "markdown",
   "id": "a8474a04",
   "metadata": {
    "slideshow": {
     "slide_type": "slide"
    }
   },
   "source": [
    "# Pinecone Vector Database"
   ]
  },
  {
   "cell_type": "code",
   "execution_count": 142,
   "id": "de149555",
   "metadata": {
    "slideshow": {
     "slide_type": "subslide"
    }
   },
   "outputs": [],
   "source": [
    "def create_pinecone_index(\n",
    "        index_name: str,\n",
    "        dimension: int,\n",
    "        metric: str = 'cosine',\n",
    "):\n",
    "    \"\"\"\n",
    "    Create a pinecone index if it does not exist\n",
    "    Args:\n",
    "        index_name: The name of the index\n",
    "        dimension: The dimension of the index\n",
    "        metric: The metric to use for the index\n",
    "    Returns:\n",
    "        Pinecone: A pinecone object which can later be used for upserting vectors and connecting to VectorDBs\n",
    "    \"\"\"\n",
    "    from pinecone import Pinecone, ServerlessSpec\n",
    "    print(\"Creating a Pinecone index...\")\n",
    "    pc = Pinecone(api_key=PINECONE_API_KEY)\n",
    "    existing_indexes = [index_info[\"name\"] for index_info in pc.list_indexes()]\n",
    "    if index_name not in existing_indexes:\n",
    "        pc.create_index(\n",
    "            name=index_name,\n",
    "            dimension=dimension,\n",
    "            # Remember! It is crucial that the metric you will use in your VectorDB will also be a metric your embedding\n",
    "            # model works well with!\n",
    "            metric=metric,\n",
    "            spec=ServerlessSpec(\n",
    "                cloud=\"aws\",\n",
    "                region=\"us-east-1\"\n",
    "            )\n",
    "        )\n",
    "    print(\"Done!\")\n",
    "    return pc"
   ]
  },
  {
   "cell_type": "code",
   "execution_count": 143,
   "id": "e6e59ce9",
   "metadata": {
    "slideshow": {
     "slide_type": "subslide"
    }
   },
   "outputs": [
    {
     "name": "stdout",
     "output_type": "stream",
     "text": [
      "Creating a Pinecone index...\n"
     ]
    },
    {
     "name": "stdout",
     "output_type": "stream",
     "text": [
      "Done!\n"
     ]
    }
   ],
   "source": [
    "INDEX_NAME = 'israel-news'\n",
    "\n",
    "# Create the vector database\n",
    "# We are passing the index_name and the size of our embeddings\n",
    "pc = create_pinecone_index(INDEX_NAME, shape[1])"
   ]
  },
  {
   "cell_type": "code",
   "execution_count": 144,
   "id": "f22e0176",
   "metadata": {
    "slideshow": {
     "slide_type": "slide"
    }
   },
   "outputs": [],
   "source": [
    "def upsert_vectors(\n",
    "        index: Pinecone,\n",
    "        embeddings: np.ndarray,\n",
    "        dataset: dict,\n",
    "        text_field: str = 'text',\n",
    "        batch_size: int = 128\n",
    "):\n",
    "    \"\"\"\n",
    "    Upsert vectors to a pinecone index\n",
    "    Args:\n",
    "        index: The pinecone index object\n",
    "        embeddings: The embeddings to upsert\n",
    "        dataset: The dataset containing the metadata\n",
    "        batch_size: The batch size to use for upserting\n",
    "    Returns:\n",
    "        An updated pinecone index\n",
    "    \"\"\"\n",
    "    print(\"Upserting the embeddings to the Pinecone index...\")\n",
    "    shape = embeddings.shape\n",
    "    \n",
    "    ids = [str(i) for i in range(shape[0])]\n",
    "    meta = [{text_field: text} for text in dataset[text_field]]\n",
    "    \n",
    "    # create list of (id, vector, metadata) tuples to be upserted\n",
    "    to_upsert = list(zip(ids, embeddings, meta))\n",
    "    \n",
    "    for i in tqdm(range(0, shape[0], batch_size)):\n",
    "        i_end = min(i + batch_size, shape[0])\n",
    "        index.upsert(vectors=to_upsert[i:i_end])\n",
    "    return index\n"
   ]
  },
  {
   "cell_type": "code",
   "execution_count": 145,
   "id": "ee8f4096",
   "metadata": {
    "slideshow": {
     "slide_type": "subslide"
    }
   },
   "outputs": [
    {
     "name": "stdout",
     "output_type": "stream",
     "text": [
      "Upserting the embeddings to the Pinecone index...\n"
     ]
    },
    {
     "name": "stderr",
     "output_type": "stream",
     "text": [
      "  0%|          | 0/136 [00:00<?, ?it/s]"
     ]
    },
    {
     "name": "stderr",
     "output_type": "stream",
     "text": [
      "100%|██████████| 136/136 [00:48<00:00,  2.78it/s]\n"
     ]
    }
   ],
   "source": [
    "# Upsert the embeddings to the Pinecone index\n",
    "index = pc.Index(INDEX_NAME)\n",
    "index_upserted = upsert_vectors(index, embeddings, dataset)"
   ]
  },
  {
   "cell_type": "markdown",
   "id": "f24fe00d",
   "metadata": {
    "slideshow": {
     "slide_type": "subslide"
    }
   },
   "source": [
    "Let's view the index statistics!"
   ]
  },
  {
   "cell_type": "code",
   "execution_count": 146,
   "id": "085fe0ef",
   "metadata": {
    "slideshow": {
     "slide_type": "fragment"
    }
   },
   "outputs": [
    {
     "data": {
      "text/plain": [
       "{'dimension': 384,\n",
       " 'index_fullness': 0.0,\n",
       " 'namespaces': {'': {'vector_count': 18176}},\n",
       " 'total_vector_count': 18176}"
      ]
     },
     "execution_count": 146,
     "metadata": {},
     "output_type": "execute_result"
    }
   ],
   "source": [
    "index.describe_index_stats()"
   ]
  },
  {
   "cell_type": "markdown",
   "id": "a6706e5e",
   "metadata": {
    "slideshow": {
     "slide_type": "slide"
    }
   },
   "source": [
    "# RAG"
   ]
  },
  {
   "cell_type": "code",
   "execution_count": 147,
   "id": "bb91e350",
   "metadata": {
    "slideshow": {
     "slide_type": "slide"
    }
   },
   "outputs": [],
   "source": [
    "def augment_prompt(\n",
    "        query: str,\n",
    "        model: SentenceTransformer = SentenceTransformer('all-MiniLM-L6-v2'),\n",
    "        index=None,\n",
    ") -> str:\n",
    "    \"\"\"\n",
    "    Augment the prompt with the top 3 results from the knowledge base\n",
    "    Args:\n",
    "        query: The query to augment\n",
    "        index: The vectorstore object\n",
    "    Returns:\n",
    "        str: The augmented prompt\n",
    "    \"\"\"\n",
    "    results = [float(val) for val in list(model.encode(query))]\n",
    "    \n",
    "    # get top 3 results from knowledge base\n",
    "    query_results = index.query(\n",
    "        vector=results,\n",
    "        top_k=3,\n",
    "        include_values=True,\n",
    "        include_metadata=True\n",
    "    )['matches']\n",
    "    text_matches = [match['metadata']['text'] for match in query_results]\n",
    "    \n",
    "    # get the text from the results\n",
    "    source_knowledge = \"\\n\\n\".join(text_matches)\n",
    "    \n",
    "    # feed into an augmented prompt\n",
    "    augmented_prompt = f\"\"\"Using the contexts below, answer the query.\n",
    "    Contexts:\n",
    "    {source_knowledge}\n",
    "    If the answer is not included in the source knowledge - say that you don't know.\n",
    "    Query: {query}\"\"\"\n",
    "    return augmented_prompt, source_knowledge"
   ]
  },
  {
   "cell_type": "code",
   "execution_count": 148,
   "id": "86a63cfd",
   "metadata": {},
   "outputs": [],
   "source": [
    "def get_answers_for_query(query, model, index):\n",
    "    \n",
    "    # Generating a response **WITHOUT** the context\n",
    "    co = cohere.Client(api_key=COHERE_API_KEY)\n",
    "    response1 = co.chat(\n",
    "            model='command-r-plus',\n",
    "            message=query,\n",
    "        )\n",
    "    not_rag_answer = response1.text\n",
    "\n",
    "    # Generating a response **WITH** the context\n",
    "    augmented_prompt, source_knowledge = augment_prompt(query, model=model, index=index)\n",
    "    response2 = co.chat(\n",
    "            model='command-r-plus',\n",
    "            message=augmented_prompt,\n",
    "        )\n",
    "    rag_answer = response2.text\n",
    "    \n",
    "    return not_rag_answer, rag_answer, source_knowledge\n",
    "    "
   ]
  },
  {
   "cell_type": "code",
   "execution_count": 149,
   "id": "4f487bd7",
   "metadata": {},
   "outputs": [],
   "source": [
    "def query_summ(query, model, index, print_source=False):\n",
    "    \"\"\"\n",
    "    The function is written to run the query with/without RAG easily\n",
    "    Args:\n",
    "        query: The query\n",
    "        model: The embedding model\n",
    "        index: The vectorstore object\n",
    "        print_source: A flag to determine wether print the source knowledge or not\n",
    "    \"\"\"\n",
    "    not_rag, rag, knowledge = get_answers_for_query(query, model=model, index=index)\n",
    "    print(\"Not RAG: \" + not_rag)\n",
    "    print(\"RAG: \" + rag)\n",
    "    if print_source:\n",
    "        print(\"\\nKnowledge: \\n\" + knowledge)"
   ]
  },
  {
   "cell_type": "code",
   "execution_count": 150,
   "id": "4f07e0a7",
   "metadata": {
    "slideshow": {
     "slide_type": "subslide"
    }
   },
   "outputs": [
    {
     "name": "stdout",
     "output_type": "stream",
     "text": [
      "Not RAG: May 2021\n",
      "RAG: The recent conflict between Israel and Gaza took place in October 2023.\n",
      "\n",
      "Knowledge: \n",
      "What started as a covert ethnic cleansing and mass dispossession of Palestinians in 1948 has evolved into an overt Israeli policy in 2023. The challenge, however, lies in the West's reluctance to acknowledge Israeli actions for what they are, as openly voiced by Israeli leaders.\"Israel’s\" war on Gaza, withal, is not about October 7 as Western mainstream media would suggest. It’s about the 75-year-old war to empty Palestine of its indigenous population. \n",
      "\n",
      "It was not immediately clear if there were any impacts or interceptions. A four-day truce between Israel and Hamas is due to take effect Friday at 7 a.m. local time (midnight ET), after Qatar helped broker a deal to free hostages held in Gaza since October 7.. \n",
      "\n",
      "In this episode of UpFront, we look back at the history and context leading up to the current Israeli war on Gaza.Nearly two months after the October 7 attack by Hamas, Israel’s response has killed more than 14,500 Palestinians.While many see the current conflict as a reaction to the attack that killed 1,200 people in Israel, others have pointed out that this view ignores crucial historical context and that the conflict has been ongoing for generations.Following the 1917 Balfour Declaration, which led to an influx of Jewish immigrants, the creation of Israel in 1948 saw an enormous displacement of Palestinians, in addition to the expulsion of hundreds of thousands who remain refugees to this day.On UpFront, Mustafa Barghouti, the co-founder of the Palestinian National Initiative, and author Ghada Karmi, join Marc Lamont Hill to look back at the history of Palestine and contextualise the current war. This is a modal window.Beginning of dialog window. Escape will cancel and close the window.End of dialog window.This is a modal window. \n"
     ]
    }
   ],
   "source": [
    "query = 'answer as shortly as possible when was the recent conflict between Israel and Gaza (as accurate date as possible)?'\n",
    "\n",
    "query_summ(query, model=model, index=index, print_source=True)"
   ]
  },
  {
   "cell_type": "code",
   "execution_count": 162,
   "id": "c666605d",
   "metadata": {},
   "outputs": [
    {
     "name": "stdout",
     "output_type": "stream",
     "text": [
      "Not RAG: None.\n",
      "RAG: 1,400\n",
      "\n",
      "Knowledge: \n",
      "The number of Palestinians killed in Gaza since Hamas attacked Israel on October 7 has surpassed 10,000, the Hamas-controlled Ministry of Health in Gaza announced Monday.Ashraf Al Qudra, spokesperson for the ministry, said 10,022 Palestinians in the enclave had been killed by Israeli strikes, including 4,104 children, 2,641 women and 611 elderly people. Those numbers suggest about three-quarters of the dead are from vulnerable populations.The ministry reported another 25,408 people have been injured.It's unclear how many combatants are included in the total. CNN cannot independently verify the numbers released by the ministry in Gaza, which is sealed off by Israel and mostly sealed by Egypt.Some background: Israel declared war on Hamas after the Islamist militant group launched a brutal attack on October 7, killing 1,400 in Israel and kidnapping more than 240. \n",
      "\n",
      "The number of Palestinians killed in Gaza since Hamas attacked Israel on October 7 has surpassed 10,000, the Hamas-controlled Ministry of Health in the enclave said Monday.Ashraf Al Qudra, spokesperson for the ministry, said 10,022 Palestinians in Gaza had been killed by Israeli strikes, including 4,104 children, 2,641 women and 611 elderly people. Those numbers suggest about three-quarters of the dead are from vulnerable populations.The ministry reported another 25,408 people have been injured.It's unclear how many combatants are included in the total. CNN cannot independently verify the numbers released by the ministry in Gaza, which is sealed off by Israel and mostly sealed by Egypt.Some background: Israel declared war on Hamas after the Islamist militant group launched a brutal attack on October 7, killing 1,400 in Israel and kidnapping more than 240. \n",
      "\n",
      "Those numbers suggest about three-quarters of the dead are from vulnerable populations.The ministry reported another 25,408 people have been injured.It's unclear how many combatants are included in the total. CNN cannot independently verify the numbers released by the ministry in Gaza, which is sealed off by Israel and mostly sealed by Egypt.Some background: Israel declared war on Hamas after the Islamist militant group launched a brutal attack on October 7, killing 1,400 in Israel and kidnapping more than 240. Israel retaliated by launching an air and ground offensive on Gaza, vowing to eliminate the militant group. \n"
     ]
    }
   ],
   "source": [
    "query = 'answer as shortly as possible how many israeli people were killed by hamas in October 2023?'\n",
    "\n",
    "query_summ(query, model=model, index=index, print_source=True)"
   ]
  },
  {
   "cell_type": "code",
   "execution_count": 152,
   "id": "36d54b76",
   "metadata": {},
   "outputs": [
    {
     "name": "stdout",
     "output_type": "stream",
     "text": [
      "Not RAG: As of June 2024, there is no active war between Israel and any other country or organization. However, Israel has ongoing tensions and conflicts with neighboring territories, including Palestinian militant groups in Gaza, such as Hamas, and Hezbollah in Lebanon.\n",
      "RAG: Hamas, Hezbollah, Iran, possibly also Houthis, and assorted Iraqi militias.\n",
      "\n",
      "Knowledge: \n",
      "With a consistent gap, \"Israel\" has repeatedly gone to war with all its neighbors. Even in the last two decades, \"Israel\" cheered the war in Iraq in 2003. 2006, it went to war with Lebanon; in 2008-2009 and 2020, it attacked Gaza, and the list continues. \n",
      "\n",
      "If this Gaza war was like all the others, a ceasefire would probably have been in force by now.But now the fault lines that divide the Middle East are rumbling. For at least two decades, the most serious rift in the region has been between the friends and allies of Iran, and the friends and allies of the United States.The core of Iran's network is made up of Hezbollah in Lebanon, the Assad regime in Syria, the Houthis in Yemen and assorted Iraqi militias that are armed and trained by Iran. The Iranians have also supported Hamas and Islamic Jihad in Gaza.Iran is also getting closer to Russia and China. \n",
      "\n",
      "The Israel Defense Forces’ top spokesman, Rear Adm. Daniel Hagari, says Israel is “in a state of war” following Hamas’s surprise attack.“The IDF has declared a state of war. We are in a state of war,” Hagari says in a live video statement.“More than 2,000 rockets have been fired. \n"
     ]
    }
   ],
   "source": [
    "query = 'answer as shortly as possible which countries/organizations currently fighting Israel?'\n",
    "\n",
    "query_summ(query, model=model, index=index, print_source=True)"
   ]
  },
  {
   "cell_type": "code",
   "execution_count": 153,
   "id": "05012c0a",
   "metadata": {},
   "outputs": [
    {
     "name": "stdout",
     "output_type": "stream",
     "text": [
      "Not RAG: The Israel-Hamas conflict in 2023 was triggered by the escape of six Palestinian prisoners from an Israeli high-security prison in September 2022, which led to a series of events, including Israeli arrest raids in the West Bank and Hamas rocket attacks on Israel.\n",
      "RAG: Israel responded to Hamas' surprise attack on Israeli settlements and citizens.\n",
      "\n",
      "Knowledge: \n",
      "But what drove Hamas to carry out such a daring and risky act? Did they not anticipate the harsh and brutal response from \"Israel\"? Did they not expect the unconditional support of the United States for \"Israel\"? To answer these questions, we need to go beyond the political games and look for the deeper motives and roots of this issue. The political roots of this issue go back to the creation of \"Israel\" in 1948 and the subsequent occupation of parts of Palestine, Syria, Jordan, and Lebanon. Since then, the world has witnessed a series of disputes over sovereignty, borders, security, religion, and identity that have fueled the Palestinian crisis. \n",
      "\n",
      "The international community condemned both sides for the escalation of violence and called for an immediate ceasefire. But what drove Hamas to carry out such a daring and risky act? Did they not anticipate the harsh and brutal response from \"Israel\"? Did they not expect the unconditional support of the United States for \"Israel\"? To answer these questions, we need to go beyond the political games and look for the deeper motives and roots of this issue. The political roots of this issue go back to the creation of \"Israel\" in 1948 and the subsequent occupation of parts of Palestine, Syria, Jordan, and Lebanon. \n",
      "\n",
      "The Middle East was once again engulfed in flames on October 7, 2023, coinciding with the 50th anniversary of the October War. The Qassam Battalions, the armed wing of the Palestinian resistance movement Hamas, launched a surprise attack on Israeli settlements and Kibbutzim from land, air, and sea. They killed more than 1,400 Israelis and took many more as prisoners. \n"
     ]
    }
   ],
   "source": [
    "query = 'answer as shortly as possible why Israel attacked Hamas in 2023?'\n",
    "query_summ(query, model=model, index=index, print_source=True)"
   ]
  }
 ],
 "metadata": {
  "celltoolbar": "Slideshow",
  "kernelspec": {
   "display_name": "Python 3 (ipykernel)",
   "language": "python",
   "name": "python3"
  },
  "language_info": {
   "codemirror_mode": {
    "name": "ipython",
    "version": 3
   },
   "file_extension": ".py",
   "mimetype": "text/x-python",
   "name": "python",
   "nbconvert_exporter": "python",
   "pygments_lexer": "ipython3",
   "version": "3.9.18"
  }
 },
 "nbformat": 4,
 "nbformat_minor": 5
}
